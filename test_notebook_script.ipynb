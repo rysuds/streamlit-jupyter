{
 "cells": [
  {
   "cell_type": "code",
   "execution_count": null,
   "metadata": {},
   "outputs": [],
   "source": [
    "import streamlit as st\n"
   ]
  },
  {
   "cell_type": "markdown",
   "metadata": {},
   "source": [
    "# Testing Jupyter Notebook -> Streamlit as markdown\n",
    "\n",
    "## Markdown stuff\n",
    "\n",
    "- blah\n",
    "- blah\n",
    "\n",
    "`blah`\n",
    "\n",
    "jnedjnbejdnbje\n",
    "hello\n",
    "\n",
    "**blah**\n",
    "\n",
    "huhuhuhuhu\n",
    "yadadad\n",
    "\n",
    "spiro\n",
    "\n",
    "\n",
    "jdj\n",
    "\n",
    "jsjs----jsj\n",
    "jsj\n",
    "\n",
    "\n",
    "\n",
    "\n"
   ]
  },
  {
   "cell_type": "code",
   "execution_count": null,
   "metadata": {},
   "outputs": [],
   "source": [
    "st.title('Test')\n",
    "written = st.text_area('type stuff')\n",
    "st.select_slider('', options=['1','2'])"
   ]
  },
  {
   "cell_type": "code",
   "execution_count": null,
   "metadata": {},
   "outputs": [],
   "source": [
    "\n",
    "st.write(written)\n",
    "st.write(written)\n"
   ]
  }
 ],
 "metadata": {
  "language_info": {
   "name": "python"
  },
  "orig_nbformat": 4
 },
 "nbformat": 4,
 "nbformat_minor": 2
}
